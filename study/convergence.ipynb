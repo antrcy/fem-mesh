{
 "cells": [
  {
   "cell_type": "code",
   "execution_count": null,
   "id": "853738e6",
   "metadata": {},
   "outputs": [],
   "source": [
    "import numpy as np\n",
    "import matplotlib.pyplot as plt\n",
    "import pandas as pd"
   ]
  },
  {
   "cell_type": "code",
   "execution_count": null,
   "id": "578b00aa",
   "metadata": {},
   "outputs": [],
   "source": [
    "data = pd.read_csv(\"./data.csv\") \n",
    "\n",
    "h = data['h']\n",
    "l2 = data['L2']\n",
    "h1 = data['H1']"
   ]
  },
  {
   "cell_type": "code",
   "execution_count": null,
   "id": "d911a9ca",
   "metadata": {},
   "outputs": [],
   "source": [
    "plt.plot(h, l2, label = 'L2 norm')\n",
    "plt.plot(h, h1, label = 'H1 norm')\n",
    "\n",
    "plt.xscale('log')\n",
    "plt.yscale('log')\n",
    "\n",
    "plt.legend()"
   ]
  },
  {
   "cell_type": "code",
   "execution_count": null,
   "id": "30b29f0e",
   "metadata": {},
   "outputs": [],
   "source": [
    "a_l2 = np.log(h1[1]/h1[2])\n",
    "print(a_l2)"
   ]
  }
 ],
 "metadata": {
  "kernelspec": {
   "display_name": "Python 3",
   "language": "python",
   "name": "python3"
  },
  "language_info": {
   "codemirror_mode": {
    "name": "ipython",
    "version": 3
   },
   "file_extension": ".py",
   "mimetype": "text/x-python",
   "name": "python",
   "nbconvert_exporter": "python",
   "pygments_lexer": "ipython3",
   "version": "3.10.12"
  }
 },
 "nbformat": 4,
 "nbformat_minor": 5
}
